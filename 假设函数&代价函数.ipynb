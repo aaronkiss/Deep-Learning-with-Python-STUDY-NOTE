{
 "cells": [
  {
   "cell_type": "markdown",
   "id": "premier-belle",
   "metadata": {},
   "source": [
    "### 假设函数(Hypothesis)\n",
    "$\n",
    "h_\\theta(x)=\\theta_0+\\theta_1x\n",
    "$\n",
    "\n",
    "#### 参数(Parameters)\n",
    "$\\theta_0,\\theta_1$\n",
    "\n",
    "### 代价函数(Cost Function)\n",
    "$\n",
    "J(\\theta_0,\\theta_1)=\\frac{1}{2m}\\sum\\limits_{i=1}^{m}(h_\\theta(x^{(i)})-y^{(i)})^2\n",
    "$\n",
    "\n",
    "### 目标(Goal)\n",
    "$\n",
    "\\underset{\\theta_0,\\theta_1}{minimize}J(\\theta_0,\\theta_1)\n",
    "$\n",
    "\n",
    "### 简化思考\n",
    "如果参数只有$\\theta_1$的话，那么$h_\\theta(x)=\\theta_1x$，此时$\\theta_0=0$。\n"
   ]
  }
 ],
 "metadata": {
  "kernelspec": {
   "display_name": "Python 3",
   "language": "python",
   "name": "python3"
  },
  "language_info": {
   "codemirror_mode": {
    "name": "ipython",
    "version": 3
   },
   "file_extension": ".py",
   "mimetype": "text/x-python",
   "name": "python",
   "nbconvert_exporter": "python",
   "pygments_lexer": "ipython3",
   "version": "3.7.10"
  }
 },
 "nbformat": 4,
 "nbformat_minor": 5
}
